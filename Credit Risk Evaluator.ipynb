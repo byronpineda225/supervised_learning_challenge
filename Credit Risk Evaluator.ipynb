{
 "cells": [
  {
   "cell_type": "markdown",
   "metadata": {},
   "source": [
    "### Author: Byron Pineda\n",
    "##### Supervised Learning Predicting Credit Risk"
   ]
  },
  {
   "cell_type": "code",
   "execution_count": 1,
   "metadata": {},
   "outputs": [],
   "source": [
    "import numpy as np\n",
    "import pandas as pd\n",
    "from pathlib import Path"
   ]
  },
  {
   "cell_type": "code",
   "execution_count": 2,
   "metadata": {},
   "outputs": [],
   "source": [
    "train_df = pd.read_csv(Path('Resources/2019loans.csv'))\n",
    "test_df = pd.read_csv(Path('Resources/2020Q1loans.csv'))"
   ]
  },
  {
   "cell_type": "code",
   "execution_count": 3,
   "metadata": {
    "scrolled": false
   },
   "outputs": [
    {
     "name": "stdout",
     "output_type": "stream",
     "text": [
      "(12180, 86)\n"
     ]
    }
   ],
   "source": [
    "train_df.head()\n",
    "print(train_df.shape)"
   ]
  },
  {
   "cell_type": "code",
   "execution_count": 4,
   "metadata": {},
   "outputs": [
    {
     "data": {
      "text/plain": [
       "array(['low_risk', 'high_risk'], dtype=object)"
      ]
     },
     "execution_count": 4,
     "metadata": {},
     "output_type": "execute_result"
    }
   ],
   "source": [
    "train_df['loan_status'].unique()"
   ]
  },
  {
   "cell_type": "code",
   "execution_count": 5,
   "metadata": {
    "scrolled": true
   },
   "outputs": [
    {
     "name": "stdout",
     "output_type": "stream",
     "text": [
      "(4702, 86)\n"
     ]
    }
   ],
   "source": [
    "test_df.head()\n",
    "print(test_df.shape)"
   ]
  },
  {
   "cell_type": "code",
   "execution_count": 6,
   "metadata": {},
   "outputs": [
    {
     "data": {
      "text/plain": [
       "array(['low_risk', 'high_risk'], dtype=object)"
      ]
     },
     "execution_count": 6,
     "metadata": {},
     "output_type": "execute_result"
    }
   ],
   "source": [
    "test_df['loan_status'].unique()"
   ]
  },
  {
   "cell_type": "code",
   "execution_count": 7,
   "metadata": {},
   "outputs": [
    {
     "name": "stdout",
     "output_type": "stream",
     "text": [
      "       Unnamed: 0   index  loan_amnt  int_rate  installment home_ownership  \\\n",
      "0           57107   57107    13375.0    0.1797       483.34       MORTGAGE   \n",
      "1          141451  141451    21000.0    0.1308       478.68       MORTGAGE   \n",
      "2          321143  321143    20000.0    0.1240       448.95       MORTGAGE   \n",
      "3           11778   11778     3000.0    0.1240       100.22           RENT   \n",
      "4          169382  169382    30000.0    0.1612      1056.49       MORTGAGE   \n",
      "...           ...     ...        ...       ...          ...            ...   \n",
      "12175      354912  354912    19975.0    0.2565       801.09           RENT   \n",
      "12176      354944  354944    15000.0    0.1774       540.34           RENT   \n",
      "12177      354973  354973     3600.0    0.1862       131.28           RENT   \n",
      "12178      355002  355002    15000.0    0.0881       475.68       MORTGAGE   \n",
      "12179      355307  355307    15000.0    0.1774       540.34           RENT   \n",
      "\n",
      "       annual_inc verification_status pymnt_plan    dti  ...  pct_tl_nvr_dlq  \\\n",
      "0        223000.0        Not Verified          n  29.99  ...           100.0   \n",
      "1        123000.0     Source Verified          n  11.26  ...            85.0   \n",
      "2        197000.0     Source Verified          n  11.28  ...            85.7   \n",
      "3         45000.0        Not Verified          n  18.08  ...           100.0   \n",
      "4        133000.0     Source Verified          n  27.77  ...           100.0   \n",
      "...           ...                 ...        ...    ...  ...             ...   \n",
      "12175     28000.0        Not Verified          n  28.42  ...           100.0   \n",
      "12176     50000.0            Verified          n  23.43  ...            90.5   \n",
      "12177     60000.0        Not Verified          n  28.80  ...           100.0   \n",
      "12178     62000.0     Source Verified          n  11.44  ...           100.0   \n",
      "12179     54080.0        Not Verified          n  21.66  ...            90.0   \n",
      "\n",
      "       percent_bc_gt_75  pub_rec_bankruptcies  tax_liens  tot_hi_cred_lim  \\\n",
      "0                  50.0                   0.0        0.0         577150.0   \n",
      "1                  33.3                   0.0        0.0         132750.0   \n",
      "2                  33.3                   0.0        0.0         628160.0   \n",
      "3                  16.7                   1.0        0.0          42006.0   \n",
      "4                  66.7                   0.0        0.0         283248.0   \n",
      "...                 ...                   ...        ...              ...   \n",
      "12175              16.7                   0.0        0.0          50055.0   \n",
      "12176              11.1                   0.0        0.0          70324.0   \n",
      "12177               0.0                   0.0        0.0          83765.0   \n",
      "12178               0.0                   0.0        0.0         189930.0   \n",
      "12179             100.0                   0.0        0.0          48968.0   \n",
      "\n",
      "       total_bal_ex_mort total_bc_limit  total_il_high_credit_limit  \\\n",
      "0               122018.0        32000.0                    170200.0   \n",
      "1                27896.0        15900.0                     35398.0   \n",
      "2               114043.0        22600.0                     90340.0   \n",
      "3                20761.0        19900.0                     15406.0   \n",
      "4               109056.0        79500.0                     58778.0   \n",
      "...                  ...            ...                         ...   \n",
      "12175            28192.0        18700.0                     19055.0   \n",
      "12176            57025.0        13300.0                     54824.0   \n",
      "12177            55156.0        14800.0                     53065.0   \n",
      "12178            23748.0         7000.0                     32930.0   \n",
      "12179            29786.0         2900.0                     33968.0   \n",
      "\n",
      "       hardship_flag  debt_settlement_flag  \n",
      "0                  N                     N  \n",
      "1                  N                     N  \n",
      "2                  N                     N  \n",
      "3                  N                     N  \n",
      "4                  N                     N  \n",
      "...              ...                   ...  \n",
      "12175              N                     N  \n",
      "12176              N                     N  \n",
      "12177              N                     N  \n",
      "12178              N                     N  \n",
      "12179              N                     N  \n",
      "\n",
      "[12180 rows x 85 columns]\n",
      "['low_risk' 'low_risk' 'low_risk' ... 'high_risk' 'high_risk' 'high_risk']\n"
     ]
    }
   ],
   "source": [
    "# Convert categorical data to numeric and separate target feature for training data\n",
    "Xtrain = train_df.drop('loan_status', axis = 1)\n",
    "print(Xtrain)\n",
    "\n",
    "ytrain = train_df['loan_status'].values\n",
    "print(ytrain)"
   ]
  },
  {
   "cell_type": "code",
   "execution_count": 8,
   "metadata": {},
   "outputs": [
    {
     "name": "stdout",
     "output_type": "stream",
     "text": [
      "Index(['Unnamed: 0', 'index', 'loan_amnt', 'int_rate', 'installment',\n",
      "       'annual_inc', 'dti', 'delinq_2yrs', 'inq_last_6mths', 'open_acc',\n",
      "       'pub_rec', 'revol_bal', 'total_acc', 'out_prncp', 'out_prncp_inv',\n",
      "       'total_pymnt', 'total_pymnt_inv', 'total_rec_prncp', 'total_rec_int',\n",
      "       'total_rec_late_fee', 'recoveries', 'collection_recovery_fee',\n",
      "       'last_pymnt_amnt', 'collections_12_mths_ex_med', 'policy_code',\n",
      "       'acc_now_delinq', 'tot_coll_amt', 'tot_cur_bal', 'open_acc_6m',\n",
      "       'open_act_il', 'open_il_12m', 'open_il_24m', 'mths_since_rcnt_il',\n",
      "       'total_bal_il', 'il_util', 'open_rv_12m', 'open_rv_24m', 'max_bal_bc',\n",
      "       'all_util', 'total_rev_hi_lim', 'inq_fi', 'total_cu_tl', 'inq_last_12m',\n",
      "       'acc_open_past_24mths', 'avg_cur_bal', 'bc_open_to_buy', 'bc_util',\n",
      "       'chargeoff_within_12_mths', 'delinq_amnt', 'mo_sin_old_il_acct',\n",
      "       'mo_sin_old_rev_tl_op', 'mo_sin_rcnt_rev_tl_op', 'mo_sin_rcnt_tl',\n",
      "       'mort_acc', 'mths_since_recent_bc', 'mths_since_recent_inq',\n",
      "       'num_accts_ever_120_pd', 'num_actv_bc_tl', 'num_actv_rev_tl',\n",
      "       'num_bc_sats', 'num_bc_tl', 'num_il_tl', 'num_op_rev_tl',\n",
      "       'num_rev_accts', 'num_rev_tl_bal_gt_0', 'num_sats', 'num_tl_120dpd_2m',\n",
      "       'num_tl_30dpd', 'num_tl_90g_dpd_24m', 'num_tl_op_past_12m',\n",
      "       'pct_tl_nvr_dlq', 'percent_bc_gt_75', 'pub_rec_bankruptcies',\n",
      "       'tax_liens', 'tot_hi_cred_lim', 'total_bal_ex_mort', 'total_bc_limit',\n",
      "       'total_il_high_credit_limit', 'home_ownership_ANY',\n",
      "       'home_ownership_MORTGAGE', 'home_ownership_OWN', 'home_ownership_RENT',\n",
      "       'verification_status_Not Verified',\n",
      "       'verification_status_Source Verified', 'verification_status_Verified',\n",
      "       'pymnt_plan_n', 'initial_list_status_f', 'initial_list_status_w',\n",
      "       'application_type_Individual', 'application_type_Joint App',\n",
      "       'hardship_flag_N', 'hardship_flag_Y', 'debt_settlement_flag_N',\n",
      "       'debt_settlement_flag_Y'],\n",
      "      dtype='object')\n",
      "(12180, 85)\n",
      "(12180, 94)\n"
     ]
    }
   ],
   "source": [
    "Xtrain_dummies = pd.get_dummies(Xtrain)\n",
    "print(Xtrain_dummies.columns)\n",
    "print(Xtrain.shape)\n",
    "print(Xtrain_dummies.shape)"
   ]
  },
  {
   "cell_type": "code",
   "execution_count": 9,
   "metadata": {},
   "outputs": [],
   "source": [
    "# Convert categorical data to numeric and separate target feature for testing data\n",
    "Xtest = test_df.drop('loan_status', axis = 1)\n",
    "ytest = test_df['loan_status'].values"
   ]
  },
  {
   "cell_type": "code",
   "execution_count": 10,
   "metadata": {},
   "outputs": [
    {
     "name": "stdout",
     "output_type": "stream",
     "text": [
      "      Unnamed: 0  index  loan_amnt  int_rate  installment home_ownership  \\\n",
      "0          67991  67991    40000.0    0.0819       814.70       MORTGAGE   \n",
      "1          25429  25429     6000.0    0.1524       208.70           RENT   \n",
      "2          38496  38496     3600.0    0.1695       128.27           RENT   \n",
      "3          19667  19667    20000.0    0.1524       478.33           RENT   \n",
      "4          37505  37505     3600.0    0.1240       120.27           RENT   \n",
      "...          ...    ...        ...       ...          ...            ...   \n",
      "4697       77282  77282    30000.0    0.1240       673.42           RENT   \n",
      "4698       77291  77291    24000.0    0.0756       747.22           RENT   \n",
      "4699       77292  77292    10000.0    0.2305       387.36           RENT   \n",
      "4700       77297  77297     8000.0    0.1862       205.86           RENT   \n",
      "4701       77304  77304    30000.0    0.2055      1123.34           RENT   \n",
      "\n",
      "      annual_inc verification_status pymnt_plan    dti  ...  pct_tl_nvr_dlq  \\\n",
      "0       140000.0        Not Verified          n  19.75  ...            97.7   \n",
      "1        55000.0        Not Verified          n  11.52  ...            66.7   \n",
      "2        42000.0        Not Verified          n   6.74  ...           100.0   \n",
      "3       100000.0        Not Verified          n  12.13  ...           100.0   \n",
      "4        50000.0        Not Verified          n  16.08  ...           100.0   \n",
      "...          ...                 ...        ...    ...  ...             ...   \n",
      "4697    140480.0     Source Verified          n  15.74  ...           100.0   \n",
      "4698     50000.0        Not Verified          n  26.81  ...           100.0   \n",
      "4699     33000.0            Verified          n  38.51  ...           100.0   \n",
      "4700     38000.0     Source Verified          n  16.36  ...            95.0   \n",
      "4701    180000.0     Source Verified          n  12.06  ...           100.0   \n",
      "\n",
      "      percent_bc_gt_75  pub_rec_bankruptcies  tax_liens  tot_hi_cred_lim  \\\n",
      "0                  0.0                   0.0        0.0         527975.0   \n",
      "1                  0.0                   0.0        0.0          34628.0   \n",
      "2                  0.0                   0.0        0.0          23100.0   \n",
      "3                 50.0                   0.0        0.0          56481.0   \n",
      "4                 25.0                   0.0        0.0          45977.0   \n",
      "...                ...                   ...        ...              ...   \n",
      "4697              28.6                   0.0        0.0         159688.0   \n",
      "4698               0.0                   0.0        0.0          62375.0   \n",
      "4699               0.0                   0.0        0.0          43250.0   \n",
      "4700               0.0                   1.0        0.0          31357.0   \n",
      "4701              33.3                   0.0        0.0         218686.0   \n",
      "\n",
      "      total_bal_ex_mort total_bc_limit  total_il_high_credit_limit  \\\n",
      "0               70914.0        74600.0                     99475.0   \n",
      "1               23460.0         5900.0                     23628.0   \n",
      "2               19183.0         7300.0                     15000.0   \n",
      "3               43817.0        13800.0                     35981.0   \n",
      "4               32448.0        21000.0                     24977.0   \n",
      "...                 ...            ...                         ...   \n",
      "4697           110873.0        48400.0                    107388.0   \n",
      "4698            18928.0        13300.0                     30775.0   \n",
      "4699            33022.0         8500.0                     29550.0   \n",
      "4700            19595.0         1500.0                      9657.0   \n",
      "4701           209389.0         5600.0                    209986.0   \n",
      "\n",
      "      hardship_flag  debt_settlement_flag  \n",
      "0                 N                     N  \n",
      "1                 N                     N  \n",
      "2                 N                     N  \n",
      "3                 N                     N  \n",
      "4                 N                     N  \n",
      "...             ...                   ...  \n",
      "4697              N                     N  \n",
      "4698              N                     N  \n",
      "4699              N                     N  \n",
      "4700              N                     N  \n",
      "4701              N                     N  \n",
      "\n",
      "[4702 rows x 85 columns]\n"
     ]
    }
   ],
   "source": [
    "print(Xtest)"
   ]
  },
  {
   "cell_type": "code",
   "execution_count": 11,
   "metadata": {},
   "outputs": [
    {
     "name": "stdout",
     "output_type": "stream",
     "text": [
      "['low_risk' 'low_risk' 'low_risk' ... 'high_risk' 'high_risk' 'high_risk']\n"
     ]
    }
   ],
   "source": [
    "print(ytest)"
   ]
  },
  {
   "cell_type": "code",
   "execution_count": 12,
   "metadata": {},
   "outputs": [
    {
     "name": "stdout",
     "output_type": "stream",
     "text": [
      "Index(['Unnamed: 0', 'index', 'loan_amnt', 'int_rate', 'installment',\n",
      "       'annual_inc', 'dti', 'delinq_2yrs', 'inq_last_6mths', 'open_acc',\n",
      "       'pub_rec', 'revol_bal', 'total_acc', 'out_prncp', 'out_prncp_inv',\n",
      "       'total_pymnt', 'total_pymnt_inv', 'total_rec_prncp', 'total_rec_int',\n",
      "       'total_rec_late_fee', 'recoveries', 'collection_recovery_fee',\n",
      "       'last_pymnt_amnt', 'collections_12_mths_ex_med', 'policy_code',\n",
      "       'acc_now_delinq', 'tot_coll_amt', 'tot_cur_bal', 'open_acc_6m',\n",
      "       'open_act_il', 'open_il_12m', 'open_il_24m', 'mths_since_rcnt_il',\n",
      "       'total_bal_il', 'il_util', 'open_rv_12m', 'open_rv_24m', 'max_bal_bc',\n",
      "       'all_util', 'total_rev_hi_lim', 'inq_fi', 'total_cu_tl', 'inq_last_12m',\n",
      "       'acc_open_past_24mths', 'avg_cur_bal', 'bc_open_to_buy', 'bc_util',\n",
      "       'chargeoff_within_12_mths', 'delinq_amnt', 'mo_sin_old_il_acct',\n",
      "       'mo_sin_old_rev_tl_op', 'mo_sin_rcnt_rev_tl_op', 'mo_sin_rcnt_tl',\n",
      "       'mort_acc', 'mths_since_recent_bc', 'mths_since_recent_inq',\n",
      "       'num_accts_ever_120_pd', 'num_actv_bc_tl', 'num_actv_rev_tl',\n",
      "       'num_bc_sats', 'num_bc_tl', 'num_il_tl', 'num_op_rev_tl',\n",
      "       'num_rev_accts', 'num_rev_tl_bal_gt_0', 'num_sats', 'num_tl_120dpd_2m',\n",
      "       'num_tl_30dpd', 'num_tl_90g_dpd_24m', 'num_tl_op_past_12m',\n",
      "       'pct_tl_nvr_dlq', 'percent_bc_gt_75', 'pub_rec_bankruptcies',\n",
      "       'tax_liens', 'tot_hi_cred_lim', 'total_bal_ex_mort', 'total_bc_limit',\n",
      "       'total_il_high_credit_limit', 'home_ownership_ANY',\n",
      "       'home_ownership_MORTGAGE', 'home_ownership_OWN', 'home_ownership_RENT',\n",
      "       'verification_status_Not Verified',\n",
      "       'verification_status_Source Verified', 'verification_status_Verified',\n",
      "       'pymnt_plan_n', 'initial_list_status_f', 'initial_list_status_w',\n",
      "       'application_type_Individual', 'application_type_Joint App',\n",
      "       'hardship_flag_N', 'hardship_flag_Y', 'debt_settlement_flag_N'],\n",
      "      dtype='object')\n"
     ]
    },
    {
     "data": {
      "text/html": [
       "<div>\n",
       "<style scoped>\n",
       "    .dataframe tbody tr th:only-of-type {\n",
       "        vertical-align: middle;\n",
       "    }\n",
       "\n",
       "    .dataframe tbody tr th {\n",
       "        vertical-align: top;\n",
       "    }\n",
       "\n",
       "    .dataframe thead th {\n",
       "        text-align: right;\n",
       "    }\n",
       "</style>\n",
       "<table border=\"1\" class=\"dataframe\">\n",
       "  <thead>\n",
       "    <tr style=\"text-align: right;\">\n",
       "      <th></th>\n",
       "      <th>Unnamed: 0</th>\n",
       "      <th>index</th>\n",
       "      <th>loan_amnt</th>\n",
       "      <th>int_rate</th>\n",
       "      <th>installment</th>\n",
       "      <th>annual_inc</th>\n",
       "      <th>dti</th>\n",
       "      <th>delinq_2yrs</th>\n",
       "      <th>inq_last_6mths</th>\n",
       "      <th>open_acc</th>\n",
       "      <th>...</th>\n",
       "      <th>verification_status_Source Verified</th>\n",
       "      <th>verification_status_Verified</th>\n",
       "      <th>pymnt_plan_n</th>\n",
       "      <th>initial_list_status_f</th>\n",
       "      <th>initial_list_status_w</th>\n",
       "      <th>application_type_Individual</th>\n",
       "      <th>application_type_Joint App</th>\n",
       "      <th>hardship_flag_N</th>\n",
       "      <th>hardship_flag_Y</th>\n",
       "      <th>debt_settlement_flag_N</th>\n",
       "    </tr>\n",
       "  </thead>\n",
       "  <tbody>\n",
       "    <tr>\n",
       "      <th>0</th>\n",
       "      <td>67991</td>\n",
       "      <td>67991</td>\n",
       "      <td>40000.0</td>\n",
       "      <td>0.0819</td>\n",
       "      <td>814.70</td>\n",
       "      <td>140000.0</td>\n",
       "      <td>19.75</td>\n",
       "      <td>0.0</td>\n",
       "      <td>1.0</td>\n",
       "      <td>18.0</td>\n",
       "      <td>...</td>\n",
       "      <td>0</td>\n",
       "      <td>0</td>\n",
       "      <td>1</td>\n",
       "      <td>0</td>\n",
       "      <td>1</td>\n",
       "      <td>1</td>\n",
       "      <td>0</td>\n",
       "      <td>1</td>\n",
       "      <td>0</td>\n",
       "      <td>1</td>\n",
       "    </tr>\n",
       "    <tr>\n",
       "      <th>1</th>\n",
       "      <td>25429</td>\n",
       "      <td>25429</td>\n",
       "      <td>6000.0</td>\n",
       "      <td>0.1524</td>\n",
       "      <td>208.70</td>\n",
       "      <td>55000.0</td>\n",
       "      <td>11.52</td>\n",
       "      <td>2.0</td>\n",
       "      <td>0.0</td>\n",
       "      <td>8.0</td>\n",
       "      <td>...</td>\n",
       "      <td>0</td>\n",
       "      <td>0</td>\n",
       "      <td>1</td>\n",
       "      <td>0</td>\n",
       "      <td>1</td>\n",
       "      <td>1</td>\n",
       "      <td>0</td>\n",
       "      <td>1</td>\n",
       "      <td>0</td>\n",
       "      <td>1</td>\n",
       "    </tr>\n",
       "    <tr>\n",
       "      <th>2</th>\n",
       "      <td>38496</td>\n",
       "      <td>38496</td>\n",
       "      <td>3600.0</td>\n",
       "      <td>0.1695</td>\n",
       "      <td>128.27</td>\n",
       "      <td>42000.0</td>\n",
       "      <td>6.74</td>\n",
       "      <td>0.0</td>\n",
       "      <td>0.0</td>\n",
       "      <td>6.0</td>\n",
       "      <td>...</td>\n",
       "      <td>0</td>\n",
       "      <td>0</td>\n",
       "      <td>1</td>\n",
       "      <td>0</td>\n",
       "      <td>1</td>\n",
       "      <td>1</td>\n",
       "      <td>0</td>\n",
       "      <td>1</td>\n",
       "      <td>0</td>\n",
       "      <td>1</td>\n",
       "    </tr>\n",
       "    <tr>\n",
       "      <th>3</th>\n",
       "      <td>19667</td>\n",
       "      <td>19667</td>\n",
       "      <td>20000.0</td>\n",
       "      <td>0.1524</td>\n",
       "      <td>478.33</td>\n",
       "      <td>100000.0</td>\n",
       "      <td>12.13</td>\n",
       "      <td>0.0</td>\n",
       "      <td>2.0</td>\n",
       "      <td>7.0</td>\n",
       "      <td>...</td>\n",
       "      <td>0</td>\n",
       "      <td>0</td>\n",
       "      <td>1</td>\n",
       "      <td>0</td>\n",
       "      <td>1</td>\n",
       "      <td>1</td>\n",
       "      <td>0</td>\n",
       "      <td>1</td>\n",
       "      <td>0</td>\n",
       "      <td>1</td>\n",
       "    </tr>\n",
       "    <tr>\n",
       "      <th>4</th>\n",
       "      <td>37505</td>\n",
       "      <td>37505</td>\n",
       "      <td>3600.0</td>\n",
       "      <td>0.1240</td>\n",
       "      <td>120.27</td>\n",
       "      <td>50000.0</td>\n",
       "      <td>16.08</td>\n",
       "      <td>0.0</td>\n",
       "      <td>3.0</td>\n",
       "      <td>6.0</td>\n",
       "      <td>...</td>\n",
       "      <td>0</td>\n",
       "      <td>0</td>\n",
       "      <td>1</td>\n",
       "      <td>0</td>\n",
       "      <td>1</td>\n",
       "      <td>1</td>\n",
       "      <td>0</td>\n",
       "      <td>1</td>\n",
       "      <td>0</td>\n",
       "      <td>1</td>\n",
       "    </tr>\n",
       "    <tr>\n",
       "      <th>...</th>\n",
       "      <td>...</td>\n",
       "      <td>...</td>\n",
       "      <td>...</td>\n",
       "      <td>...</td>\n",
       "      <td>...</td>\n",
       "      <td>...</td>\n",
       "      <td>...</td>\n",
       "      <td>...</td>\n",
       "      <td>...</td>\n",
       "      <td>...</td>\n",
       "      <td>...</td>\n",
       "      <td>...</td>\n",
       "      <td>...</td>\n",
       "      <td>...</td>\n",
       "      <td>...</td>\n",
       "      <td>...</td>\n",
       "      <td>...</td>\n",
       "      <td>...</td>\n",
       "      <td>...</td>\n",
       "      <td>...</td>\n",
       "      <td>...</td>\n",
       "    </tr>\n",
       "    <tr>\n",
       "      <th>4697</th>\n",
       "      <td>77282</td>\n",
       "      <td>77282</td>\n",
       "      <td>30000.0</td>\n",
       "      <td>0.1240</td>\n",
       "      <td>673.42</td>\n",
       "      <td>140480.0</td>\n",
       "      <td>15.74</td>\n",
       "      <td>0.0</td>\n",
       "      <td>0.0</td>\n",
       "      <td>20.0</td>\n",
       "      <td>...</td>\n",
       "      <td>1</td>\n",
       "      <td>0</td>\n",
       "      <td>1</td>\n",
       "      <td>1</td>\n",
       "      <td>0</td>\n",
       "      <td>1</td>\n",
       "      <td>0</td>\n",
       "      <td>1</td>\n",
       "      <td>0</td>\n",
       "      <td>1</td>\n",
       "    </tr>\n",
       "    <tr>\n",
       "      <th>4698</th>\n",
       "      <td>77291</td>\n",
       "      <td>77291</td>\n",
       "      <td>24000.0</td>\n",
       "      <td>0.0756</td>\n",
       "      <td>747.22</td>\n",
       "      <td>50000.0</td>\n",
       "      <td>26.81</td>\n",
       "      <td>0.0</td>\n",
       "      <td>0.0</td>\n",
       "      <td>9.0</td>\n",
       "      <td>...</td>\n",
       "      <td>0</td>\n",
       "      <td>0</td>\n",
       "      <td>1</td>\n",
       "      <td>0</td>\n",
       "      <td>1</td>\n",
       "      <td>1</td>\n",
       "      <td>0</td>\n",
       "      <td>1</td>\n",
       "      <td>0</td>\n",
       "      <td>1</td>\n",
       "    </tr>\n",
       "    <tr>\n",
       "      <th>4699</th>\n",
       "      <td>77292</td>\n",
       "      <td>77292</td>\n",
       "      <td>10000.0</td>\n",
       "      <td>0.2305</td>\n",
       "      <td>387.36</td>\n",
       "      <td>33000.0</td>\n",
       "      <td>38.51</td>\n",
       "      <td>0.0</td>\n",
       "      <td>2.0</td>\n",
       "      <td>7.0</td>\n",
       "      <td>...</td>\n",
       "      <td>0</td>\n",
       "      <td>1</td>\n",
       "      <td>1</td>\n",
       "      <td>1</td>\n",
       "      <td>0</td>\n",
       "      <td>1</td>\n",
       "      <td>0</td>\n",
       "      <td>1</td>\n",
       "      <td>0</td>\n",
       "      <td>1</td>\n",
       "    </tr>\n",
       "    <tr>\n",
       "      <th>4700</th>\n",
       "      <td>77297</td>\n",
       "      <td>77297</td>\n",
       "      <td>8000.0</td>\n",
       "      <td>0.1862</td>\n",
       "      <td>205.86</td>\n",
       "      <td>38000.0</td>\n",
       "      <td>16.36</td>\n",
       "      <td>0.0</td>\n",
       "      <td>1.0</td>\n",
       "      <td>8.0</td>\n",
       "      <td>...</td>\n",
       "      <td>1</td>\n",
       "      <td>0</td>\n",
       "      <td>1</td>\n",
       "      <td>0</td>\n",
       "      <td>1</td>\n",
       "      <td>1</td>\n",
       "      <td>0</td>\n",
       "      <td>1</td>\n",
       "      <td>0</td>\n",
       "      <td>1</td>\n",
       "    </tr>\n",
       "    <tr>\n",
       "      <th>4701</th>\n",
       "      <td>77304</td>\n",
       "      <td>77304</td>\n",
       "      <td>30000.0</td>\n",
       "      <td>0.2055</td>\n",
       "      <td>1123.34</td>\n",
       "      <td>180000.0</td>\n",
       "      <td>12.06</td>\n",
       "      <td>0.0</td>\n",
       "      <td>0.0</td>\n",
       "      <td>8.0</td>\n",
       "      <td>...</td>\n",
       "      <td>1</td>\n",
       "      <td>0</td>\n",
       "      <td>1</td>\n",
       "      <td>1</td>\n",
       "      <td>0</td>\n",
       "      <td>1</td>\n",
       "      <td>0</td>\n",
       "      <td>1</td>\n",
       "      <td>0</td>\n",
       "      <td>1</td>\n",
       "    </tr>\n",
       "  </tbody>\n",
       "</table>\n",
       "<p>4702 rows × 93 columns</p>\n",
       "</div>"
      ],
      "text/plain": [
       "      Unnamed: 0  index  loan_amnt  int_rate  installment  annual_inc    dti  \\\n",
       "0          67991  67991    40000.0    0.0819       814.70    140000.0  19.75   \n",
       "1          25429  25429     6000.0    0.1524       208.70     55000.0  11.52   \n",
       "2          38496  38496     3600.0    0.1695       128.27     42000.0   6.74   \n",
       "3          19667  19667    20000.0    0.1524       478.33    100000.0  12.13   \n",
       "4          37505  37505     3600.0    0.1240       120.27     50000.0  16.08   \n",
       "...          ...    ...        ...       ...          ...         ...    ...   \n",
       "4697       77282  77282    30000.0    0.1240       673.42    140480.0  15.74   \n",
       "4698       77291  77291    24000.0    0.0756       747.22     50000.0  26.81   \n",
       "4699       77292  77292    10000.0    0.2305       387.36     33000.0  38.51   \n",
       "4700       77297  77297     8000.0    0.1862       205.86     38000.0  16.36   \n",
       "4701       77304  77304    30000.0    0.2055      1123.34    180000.0  12.06   \n",
       "\n",
       "      delinq_2yrs  inq_last_6mths  open_acc  ...  \\\n",
       "0             0.0             1.0      18.0  ...   \n",
       "1             2.0             0.0       8.0  ...   \n",
       "2             0.0             0.0       6.0  ...   \n",
       "3             0.0             2.0       7.0  ...   \n",
       "4             0.0             3.0       6.0  ...   \n",
       "...           ...             ...       ...  ...   \n",
       "4697          0.0             0.0      20.0  ...   \n",
       "4698          0.0             0.0       9.0  ...   \n",
       "4699          0.0             2.0       7.0  ...   \n",
       "4700          0.0             1.0       8.0  ...   \n",
       "4701          0.0             0.0       8.0  ...   \n",
       "\n",
       "      verification_status_Source Verified  verification_status_Verified  \\\n",
       "0                                       0                             0   \n",
       "1                                       0                             0   \n",
       "2                                       0                             0   \n",
       "3                                       0                             0   \n",
       "4                                       0                             0   \n",
       "...                                   ...                           ...   \n",
       "4697                                    1                             0   \n",
       "4698                                    0                             0   \n",
       "4699                                    0                             1   \n",
       "4700                                    1                             0   \n",
       "4701                                    1                             0   \n",
       "\n",
       "      pymnt_plan_n  initial_list_status_f  initial_list_status_w  \\\n",
       "0                1                      0                      1   \n",
       "1                1                      0                      1   \n",
       "2                1                      0                      1   \n",
       "3                1                      0                      1   \n",
       "4                1                      0                      1   \n",
       "...            ...                    ...                    ...   \n",
       "4697             1                      1                      0   \n",
       "4698             1                      0                      1   \n",
       "4699             1                      1                      0   \n",
       "4700             1                      0                      1   \n",
       "4701             1                      1                      0   \n",
       "\n",
       "      application_type_Individual  application_type_Joint App  \\\n",
       "0                               1                           0   \n",
       "1                               1                           0   \n",
       "2                               1                           0   \n",
       "3                               1                           0   \n",
       "4                               1                           0   \n",
       "...                           ...                         ...   \n",
       "4697                            1                           0   \n",
       "4698                            1                           0   \n",
       "4699                            1                           0   \n",
       "4700                            1                           0   \n",
       "4701                            1                           0   \n",
       "\n",
       "      hardship_flag_N  hardship_flag_Y  debt_settlement_flag_N  \n",
       "0                   1                0                       1  \n",
       "1                   1                0                       1  \n",
       "2                   1                0                       1  \n",
       "3                   1                0                       1  \n",
       "4                   1                0                       1  \n",
       "...               ...              ...                     ...  \n",
       "4697                1                0                       1  \n",
       "4698                1                0                       1  \n",
       "4699                1                0                       1  \n",
       "4700                1                0                       1  \n",
       "4701                1                0                       1  \n",
       "\n",
       "[4702 rows x 93 columns]"
      ]
     },
     "execution_count": 12,
     "metadata": {},
     "output_type": "execute_result"
    }
   ],
   "source": [
    "Xtest_dummies = pd.get_dummies(Xtest)\n",
    "print(Xtest_dummies.columns)\n",
    "Xtest_dummies"
   ]
  },
  {
   "cell_type": "code",
   "execution_count": 13,
   "metadata": {},
   "outputs": [
    {
     "name": "stdout",
     "output_type": "stream",
     "text": [
      "(4702, 85)\n",
      "(4702, 93)\n"
     ]
    }
   ],
   "source": [
    "print(Xtest.shape)\n",
    "print(Xtest_dummies.shape)"
   ]
  },
  {
   "cell_type": "code",
   "execution_count": 14,
   "metadata": {},
   "outputs": [
    {
     "name": "stdout",
     "output_type": "stream",
     "text": [
      "      Unnamed: 0  index  loan_amnt  int_rate  installment  annual_inc    dti  \\\n",
      "0          67991  67991    40000.0    0.0819       814.70    140000.0  19.75   \n",
      "1          25429  25429     6000.0    0.1524       208.70     55000.0  11.52   \n",
      "2          38496  38496     3600.0    0.1695       128.27     42000.0   6.74   \n",
      "3          19667  19667    20000.0    0.1524       478.33    100000.0  12.13   \n",
      "4          37505  37505     3600.0    0.1240       120.27     50000.0  16.08   \n",
      "...          ...    ...        ...       ...          ...         ...    ...   \n",
      "4697       77282  77282    30000.0    0.1240       673.42    140480.0  15.74   \n",
      "4698       77291  77291    24000.0    0.0756       747.22     50000.0  26.81   \n",
      "4699       77292  77292    10000.0    0.2305       387.36     33000.0  38.51   \n",
      "4700       77297  77297     8000.0    0.1862       205.86     38000.0  16.36   \n",
      "4701       77304  77304    30000.0    0.2055      1123.34    180000.0  12.06   \n",
      "\n",
      "      delinq_2yrs  inq_last_6mths  open_acc  ...  \\\n",
      "0             0.0             1.0      18.0  ...   \n",
      "1             2.0             0.0       8.0  ...   \n",
      "2             0.0             0.0       6.0  ...   \n",
      "3             0.0             2.0       7.0  ...   \n",
      "4             0.0             3.0       6.0  ...   \n",
      "...           ...             ...       ...  ...   \n",
      "4697          0.0             0.0      20.0  ...   \n",
      "4698          0.0             0.0       9.0  ...   \n",
      "4699          0.0             2.0       7.0  ...   \n",
      "4700          0.0             1.0       8.0  ...   \n",
      "4701          0.0             0.0       8.0  ...   \n",
      "\n",
      "      verification_status_Verified  pymnt_plan_n  initial_list_status_f  \\\n",
      "0                                0             1                      0   \n",
      "1                                0             1                      0   \n",
      "2                                0             1                      0   \n",
      "3                                0             1                      0   \n",
      "4                                0             1                      0   \n",
      "...                            ...           ...                    ...   \n",
      "4697                             0             1                      1   \n",
      "4698                             0             1                      0   \n",
      "4699                             1             1                      1   \n",
      "4700                             0             1                      0   \n",
      "4701                             0             1                      1   \n",
      "\n",
      "      initial_list_status_w  application_type_Individual  \\\n",
      "0                         1                            1   \n",
      "1                         1                            1   \n",
      "2                         1                            1   \n",
      "3                         1                            1   \n",
      "4                         1                            1   \n",
      "...                     ...                          ...   \n",
      "4697                      0                            1   \n",
      "4698                      1                            1   \n",
      "4699                      0                            1   \n",
      "4700                      1                            1   \n",
      "4701                      0                            1   \n",
      "\n",
      "      application_type_Joint App  hardship_flag_N  hardship_flag_Y  \\\n",
      "0                              0                1                0   \n",
      "1                              0                1                0   \n",
      "2                              0                1                0   \n",
      "3                              0                1                0   \n",
      "4                              0                1                0   \n",
      "...                          ...              ...              ...   \n",
      "4697                           0                1                0   \n",
      "4698                           0                1                0   \n",
      "4699                           0                1                0   \n",
      "4700                           0                1                0   \n",
      "4701                           0                1                0   \n",
      "\n",
      "      debt_settlement_flag_N  debt_settlement_flag_Y  \n",
      "0                          1                       0  \n",
      "1                          1                       0  \n",
      "2                          1                       0  \n",
      "3                          1                       0  \n",
      "4                          1                       0  \n",
      "...                      ...                     ...  \n",
      "4697                       1                       0  \n",
      "4698                       1                       0  \n",
      "4699                       1                       0  \n",
      "4700                       1                       0  \n",
      "4701                       1                       0  \n",
      "\n",
      "[4702 rows x 94 columns]\n"
     ]
    }
   ],
   "source": [
    "# add missing dummy variables to testing set\n",
    "Xtest_dummies['debt_settlement_flag_Y'] = 0\n",
    "print(Xtest_dummies)"
   ]
  },
  {
   "cell_type": "code",
   "execution_count": 15,
   "metadata": {},
   "outputs": [
    {
     "name": "stdout",
     "output_type": "stream",
     "text": [
      "(4702, 94)\n",
      "(12180, 94)\n"
     ]
    }
   ],
   "source": [
    "print(Xtest_dummies.shape)\n",
    "print(Xtrain_dummies.shape)"
   ]
  },
  {
   "cell_type": "markdown",
   "metadata": {},
   "source": [
    "##### Prediction - Which model will perform better a logistic regression or random forest classifier with unscaled data on the two loan datasets?"
   ]
  },
  {
   "cell_type": "markdown",
   "metadata": {},
   "source": [
    "We know from the instructions that the two loan datasets have been undersampled to give an even number of high and low risk loans.  My initial guess was the forests classifier would be the better model simply because in general they produce better results and work on missing data by creating estimates. \n",
    "\n",
    "After running the models/scoring with the unscaled the logistic regression scored training score was 0.648440065681445 and the testing score was 0.5253083794130158 compared to the random forest classifier which had a training score of 1.0 and a testing score of 0.6180348787749894. In this case the forest classifier testing score was better than the logistic regression testing score namely .6180 versus .5253 with the unscaled data."
   ]
  },
  {
   "cell_type": "code",
   "execution_count": 16,
   "metadata": {},
   "outputs": [
    {
     "data": {
      "text/plain": [
       "LogisticRegression()"
      ]
     },
     "execution_count": 16,
     "metadata": {},
     "output_type": "execute_result"
    }
   ],
   "source": [
    "# Train the Logistic Regression model on the unscaled data and print the model score\n",
    "from sklearn.linear_model import LogisticRegression\n",
    "classifier = LogisticRegression()\n",
    "classifier"
   ]
  },
  {
   "cell_type": "code",
   "execution_count": 17,
   "metadata": {},
   "outputs": [
    {
     "name": "stderr",
     "output_type": "stream",
     "text": [
      "C:\\Users\\pined\\anaconda3\\envs\\PythonAdv\\lib\\site-packages\\sklearn\\linear_model\\_logistic.py:765: ConvergenceWarning: lbfgs failed to converge (status=1):\n",
      "STOP: TOTAL NO. of ITERATIONS REACHED LIMIT.\n",
      "\n",
      "Increase the number of iterations (max_iter) or scale the data as shown in:\n",
      "    https://scikit-learn.org/stable/modules/preprocessing.html\n",
      "Please also refer to the documentation for alternative solver options:\n",
      "    https://scikit-learn.org/stable/modules/linear_model.html#logistic-regression\n",
      "  extra_warning_msg=_LOGISTIC_SOLVER_CONVERGENCE_MSG)\n"
     ]
    },
    {
     "data": {
      "text/plain": [
       "LogisticRegression()"
      ]
     },
     "execution_count": 17,
     "metadata": {},
     "output_type": "execute_result"
    }
   ],
   "source": [
    "classifier.fit(Xtrain_dummies, ytrain)"
   ]
  },
  {
   "cell_type": "code",
   "execution_count": 18,
   "metadata": {},
   "outputs": [
    {
     "name": "stdout",
     "output_type": "stream",
     "text": [
      "Training Score: 0.648440065681445\n",
      "Testing Score: 0.5253083794130158\n"
     ]
    }
   ],
   "source": [
    "print(f'Training Score: {classifier.score(Xtrain_dummies, ytrain)}')\n",
    "print(f'Testing Score: {classifier.score(Xtest_dummies, ytest)}')"
   ]
  },
  {
   "cell_type": "code",
   "execution_count": 19,
   "metadata": {},
   "outputs": [
    {
     "name": "stdout",
     "output_type": "stream",
     "text": [
      "Training Score: 1.0\n",
      "Testing Score: 0.6180348787749894\n"
     ]
    }
   ],
   "source": [
    "# Train a Random Forest Classifier model and print the model score\n",
    "from sklearn.ensemble import RandomForestClassifier\n",
    "clf = RandomForestClassifier(random_state=1, n_estimators=500).fit(Xtrain_dummies, ytrain)\n",
    "print(f'Training Score: {clf.score(Xtrain_dummies, ytrain)}')\n",
    "print(f'Testing Score: {clf.score(Xtest_dummies, ytest)}')"
   ]
  },
  {
   "cell_type": "markdown",
   "metadata": {},
   "source": [
    "##### Prediction - Which model will perform better a logistic regression or random forest classifier with scaled data on the two loan datasets?"
   ]
  },
  {
   "cell_type": "markdown",
   "metadata": {},
   "source": [
    "After seeing the previous results my guess again was the forests classifier would be the better model with the scaled data simply because in general they produce better results than logistic regression.\n",
    "\n",
    "After running the models/scoring on the scaled data the logistic regression scored training score was 0.713136288998358 and the testing score was 0.7207571246278179 compared to the random forest classifier which had a training score of 1.0 and a testing score of 0.6193109315185028. The training/test scores for the random forest classifier was nearly identical to the previous test using unscaled data. In this case, the forest classifier testing score was not as good as the logistic regression testing score namely .6193 versus .7207 with the scaled data. The logistic regression training and testing scores were very close at .71 plus."
   ]
  },
  {
   "cell_type": "markdown",
   "metadata": {},
   "source": [
    "In retrospect and after reviewing the data again it makes sense that with the scaled data the logistic regression would be the better model. There are some very large discrepancies in the size of some of the data elements compared to each other. This showed the importance of scaling data for bettering a model using logistic regression although scaling did not meaningfully change the results for the random forest classifier."
   ]
  },
  {
   "cell_type": "code",
   "execution_count": 20,
   "metadata": {},
   "outputs": [],
   "source": [
    "# Scale the data\n",
    "from sklearn.preprocessing import StandardScaler, MinMaxScaler, LabelEncoder\n",
    "scaler = StandardScaler().fit(Xtrain_dummies)\n",
    "X_train_scale = scaler.transform(Xtrain_dummies)\n",
    "X_test_scale = scaler.transform(Xtest_dummies)"
   ]
  },
  {
   "cell_type": "code",
   "execution_count": 21,
   "metadata": {},
   "outputs": [
    {
     "name": "stdout",
     "output_type": "stream",
     "text": [
      "Training Score: 0.713136288998358\n",
      "Testing Score: 0.7207571246278179\n"
     ]
    },
    {
     "name": "stderr",
     "output_type": "stream",
     "text": [
      "C:\\Users\\pined\\anaconda3\\envs\\PythonAdv\\lib\\site-packages\\sklearn\\linear_model\\_logistic.py:765: ConvergenceWarning: lbfgs failed to converge (status=1):\n",
      "STOP: TOTAL NO. of ITERATIONS REACHED LIMIT.\n",
      "\n",
      "Increase the number of iterations (max_iter) or scale the data as shown in:\n",
      "    https://scikit-learn.org/stable/modules/preprocessing.html\n",
      "Please also refer to the documentation for alternative solver options:\n",
      "    https://scikit-learn.org/stable/modules/linear_model.html#logistic-regression\n",
      "  extra_warning_msg=_LOGISTIC_SOLVER_CONVERGENCE_MSG)\n"
     ]
    }
   ],
   "source": [
    "# Train the Logistic Regression model on the scaled data and print the model score\n",
    "from sklearn.linear_model import LogisticRegression\n",
    "classifier = LogisticRegression()\n",
    "classifier.fit(X_train_scale, ytrain)\n",
    "print(f'Training Score: {classifier.score(X_train_scale, ytrain)}')\n",
    "print(f'Testing Score: {classifier.score(X_test_scale, ytest)}')"
   ]
  },
  {
   "cell_type": "code",
   "execution_count": 22,
   "metadata": {
    "scrolled": false
   },
   "outputs": [
    {
     "name": "stdout",
     "output_type": "stream",
     "text": [
      "Training Score: 1.0\n",
      "Testing Score: 0.6193109315185028\n"
     ]
    }
   ],
   "source": [
    "# Train a Random Forest Classifier model on the scaled data and print the model score\n",
    "clf = RandomForestClassifier(random_state=1, n_estimators=500).fit(X_train_scale, ytrain)\n",
    "print(f'Training Score: {clf.score(X_train_scale, ytrain)}')\n",
    "print(f'Testing Score: {clf.score(X_test_scale, ytest)}')"
   ]
  }
 ],
 "metadata": {
  "kernelspec": {
   "display_name": "Python [conda env:PythonAdv] *",
   "language": "python",
   "name": "conda-env-PythonAdv-py"
  },
  "language_info": {
   "codemirror_mode": {
    "name": "ipython",
    "version": 3
   },
   "file_extension": ".py",
   "mimetype": "text/x-python",
   "name": "python",
   "nbconvert_exporter": "python",
   "pygments_lexer": "ipython3",
   "version": "3.6.13"
  }
 },
 "nbformat": 4,
 "nbformat_minor": 4
}
